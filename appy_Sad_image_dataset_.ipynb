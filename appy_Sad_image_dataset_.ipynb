{
  "nbformat": 4,
  "nbformat_minor": 0,
  "metadata": {
    "colab": {
      "name": "appy/Sad image dataset .ipynb",
      "provenance": [],
      "authorship_tag": "ABX9TyP1RZ1OdZFQH64bmEOYOf6k",
      "include_colab_link": true
    },
    "kernelspec": {
      "name": "python3",
      "display_name": "Python 3"
    },
    "accelerator": "GPU"
  },
  "cells": [
    {
      "cell_type": "markdown",
      "metadata": {
        "id": "view-in-github",
        "colab_type": "text"
      },
      "source": [
        "<a href=\"https://colab.research.google.com/github/sizah123/myApplication/blob/master/appy_Sad_image_dataset_.ipynb\" target=\"_parent\"><img src=\"https://colab.research.google.com/assets/colab-badge.svg\" alt=\"Open In Colab\"/></a>"
      ]
    },
    {
      "cell_type": "code",
      "metadata": {
        "id": "HieRD5bZdH_q"
      },
      "source": [
        "import tensorflow as tf\r\n",
        "import os\r\n",
        "import zipfile"
      ],
      "execution_count": 5,
      "outputs": []
    },
    {
      "cell_type": "code",
      "metadata": {
        "id": "YHuZQlaPwvIg"
      },
      "source": [
        "DESIRED_ACCURACY = 0.999"
      ],
      "execution_count": 12,
      "outputs": []
    },
    {
      "cell_type": "code",
      "metadata": {
        "colab": {
          "base_uri": "https://localhost:8080/"
        },
        "id": "YENH8EQ-u9NM",
        "outputId": "ea02a8e8-fa25-4ead-8593-4f122f1d1516"
      },
      "source": [
        "!wget --no-check-certificate \\\n",
        "    \"https://storage.googleapis.com/laurencemoroney-blog.appspot.com/happy-or-sad.zip\" \\\n",
        "    -O \"/tmp/happy-or-sad.zip\""
      ],
      "execution_count": 13,
      "outputs": [
        {
          "output_type": "stream",
          "text": [
            "--2021-01-26 22:14:27--  https://storage.googleapis.com/laurencemoroney-blog.appspot.com/happy-or-sad.zip\n",
            "Resolving storage.googleapis.com (storage.googleapis.com)... 172.217.13.240, 172.217.12.240, 172.253.62.128, ...\n",
            "Connecting to storage.googleapis.com (storage.googleapis.com)|172.217.13.240|:443... connected.\n",
            "HTTP request sent, awaiting response... 200 OK\n",
            "Length: 2670333 (2.5M) [application/zip]\n",
            "Saving to: ‘/tmp/happy-or-sad.zip’\n",
            "\n",
            "\r/tmp/happy-or-sad.z   0%[                    ]       0  --.-KB/s               \r/tmp/happy-or-sad.z 100%[===================>]   2.55M  --.-KB/s    in 0.01s   \n",
            "\n",
            "2021-01-26 22:14:28 (248 MB/s) - ‘/tmp/happy-or-sad.zip’ saved [2670333/2670333]\n",
            "\n"
          ],
          "name": "stdout"
        }
      ]
    },
    {
      "cell_type": "code",
      "metadata": {
        "id": "AjN0muzLvD-j"
      },
      "source": [
        "zip_ref = zipfile.ZipFile(\"/tmp/happy-or-sad.zip\", 'r')\n",
        "zip_ref.extractall(\"/tmp/h-or-s\")\n",
        "zip_ref.close()\n",
        "\n",
        "class myCallback(tf.keras.callbacks.Callback):\n",
        "  def on_epoch_end(self, epoch, logs={}):\n",
        "    if(logs.get('acc')>DESIRED_ACCURACY):\n",
        "      print(\"\\nReached 99.9% accuracy so cancelling training!\")\n",
        "      self.model.stop_training = True\n",
        "\n",
        "callbacks = myCallback()\n",
        "\n",
        "\n",
        "model = tf.keras.models.Sequential([\n",
        "    tf.keras.layers.Conv2D(16, (3,3), activation='relu', input_shape=(150, 150, 3)),\n",
        "    tf.keras.layers.MaxPooling2D(2, 2),\n",
        "    tf.keras.layers.Conv2D(32, (3,3), activation='relu'),\n",
        "    tf.keras.layers.MaxPooling2D(2,2),\n",
        "    tf.keras.layers.Conv2D(32, (3,3), activation='relu'),\n",
        "    tf.keras.layers.MaxPooling2D(2,2),\n",
        "    tf.keras.layers.Flatten(),\n",
        "    tf.keras.layers.Dense(512, activation='relu'),\n",
        "    tf.keras.layers.Dense(1, activation='sigmoid')\n",
        "])\n"
      ],
      "execution_count": 14,
      "outputs": []
    },
    {
      "cell_type": "code",
      "metadata": {
        "colab": {
          "base_uri": "https://localhost:8080/"
        },
        "id": "8BX0I7Q1waua",
        "outputId": "6c0f50bf-b832-43b0-eecc-2ef613e85899"
      },
      "source": [
        "\n",
        "from tensorflow.keras.optimizers import RMSprop\n",
        "\n",
        "model.compile(loss='binary_crossentropy',\n",
        "              optimizer=RMSprop(lr=0.001),\n",
        "              metrics=['acc'])\n",
        "\n",
        "from tensorflow.keras.preprocessing.image import ImageDataGenerator\n",
        "\n",
        "train_datagen = ImageDataGenerator(rescale=1/255)\n",
        "\n",
        "train_generator = train_datagen.flow_from_directory(\n",
        "        \"/tmp/h-or-s\",  \n",
        "        target_size=(150, 150), \n",
        "        batch_size=10,\n",
        "        class_mode='binary')\n",
        "\n",
        "# Expected output: 'Found 80 images belonging to 2 classes'\n",
        "\n",
        "history = model.fit_generator(\n",
        "      train_generator,\n",
        "      steps_per_epoch=2,  \n",
        "      epochs=15,\n",
        "      verbose=1,\n",
        "      callbacks=[callbacks])"
      ],
      "execution_count": 15,
      "outputs": [
        {
          "output_type": "stream",
          "text": [
            "Found 80 images belonging to 2 classes.\n",
            "Epoch 1/15\n"
          ],
          "name": "stdout"
        },
        {
          "output_type": "stream",
          "text": [
            "/usr/local/lib/python3.6/dist-packages/tensorflow/python/keras/engine/training.py:1844: UserWarning: `Model.fit_generator` is deprecated and will be removed in a future version. Please use `Model.fit`, which supports generators.\n",
            "  warnings.warn('`Model.fit_generator` is deprecated and '\n"
          ],
          "name": "stderr"
        },
        {
          "output_type": "stream",
          "text": [
            "2/2 [==============================] - 1s 22ms/step - loss: 6.9303 - acc: 0.4667\n",
            "Epoch 2/15\n",
            "2/2 [==============================] - 0s 24ms/step - loss: 1.0368 - acc: 0.5333\n",
            "Epoch 3/15\n",
            "2/2 [==============================] - 0s 18ms/step - loss: 0.6381 - acc: 0.5000\n",
            "Epoch 4/15\n",
            "2/2 [==============================] - 0s 20ms/step - loss: 0.8942 - acc: 0.3333\n",
            "Epoch 5/15\n",
            "2/2 [==============================] - 0s 19ms/step - loss: 0.6450 - acc: 0.3333\n",
            "Epoch 6/15\n",
            "2/2 [==============================] - 0s 23ms/step - loss: 0.5610 - acc: 0.5000\n",
            "Epoch 7/15\n",
            "2/2 [==============================] - 0s 21ms/step - loss: 0.3982 - acc: 0.9000\n",
            "Epoch 8/15\n",
            "2/2 [==============================] - 0s 20ms/step - loss: 0.5596 - acc: 0.6667\n",
            "Epoch 9/15\n",
            "2/2 [==============================] - 0s 16ms/step - loss: 0.2677 - acc: 0.9667\n",
            "Epoch 10/15\n",
            "2/2 [==============================] - 0s 19ms/step - loss: 0.2695 - acc: 0.8667\n",
            "Epoch 11/15\n",
            "2/2 [==============================] - 0s 21ms/step - loss: 0.2443 - acc: 0.9000\n",
            "Epoch 12/15\n",
            "2/2 [==============================] - 0s 23ms/step - loss: 1.0871 - acc: 0.5667\n",
            "Epoch 13/15\n",
            "2/2 [==============================] - 0s 16ms/step - loss: 0.2976 - acc: 0.9667\n",
            "Epoch 14/15\n",
            "2/2 [==============================] - 0s 18ms/step - loss: 0.2139 - acc: 0.9000\n",
            "Epoch 15/15\n",
            "2/2 [==============================] - 0s 19ms/step - loss: 0.3239 - acc: 0.8333\n"
          ],
          "name": "stdout"
        }
      ]
    }
  ]
}