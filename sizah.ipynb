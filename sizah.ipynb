{
  "nbformat": 4,
  "nbformat_minor": 0,
  "metadata": {
    "colab": {
      "name": "sizah.ipynb",
      "provenance": [],
      "private_outputs": true,
      "authorship_tag": "ABX9TyNbDb9fHx1RIkWL8m+lxtbK",
      "include_colab_link": true
    },
    "kernelspec": {
      "name": "python3",
      "display_name": "Python 3"
    },
    "accelerator": "GPU"
  },
  "cells": [
    {
      "cell_type": "markdown",
      "metadata": {
        "id": "view-in-github",
        "colab_type": "text"
      },
      "source": [
        "<a href=\"https://colab.research.google.com/github/sizah123/myApplication/blob/master/sizah.ipynb\" target=\"_parent\"><img src=\"https://colab.research.google.com/assets/colab-badge.svg\" alt=\"Open In Colab\"/></a>"
      ]
    },
    {
      "cell_type": "code",
      "metadata": {
        "id": "2CDZquwc5ddL",
        "colab_type": "code",
        "colab": {}
      },
      "source": [
        ""
      ],
      "execution_count": 0,
      "outputs": []
    },
    {
      "cell_type": "code",
      "metadata": {
        "id": "MsK9AOGqV4Hj",
        "colab_type": "code",
        "colab": {}
      },
      "source": [
        "!apt-get --purge remove cuda nvidia* libnvidia-*\n"
      ],
      "execution_count": 0,
      "outputs": []
    },
    {
      "cell_type": "code",
      "metadata": {
        "id": "TZmgezwX6nf1",
        "colab_type": "code",
        "colab": {}
      },
      "source": [
        "!dpkg -l | grep cuda- | awk '{print $2}' | xargs -n1 dpkg --purge\n"
      ],
      "execution_count": 0,
      "outputs": []
    },
    {
      "cell_type": "code",
      "metadata": {
        "id": "a7SIIiwP6yI5",
        "colab_type": "code",
        "colab": {}
      },
      "source": [
        "!apt-get remove cuda-*\n"
      ],
      "execution_count": 0,
      "outputs": []
    },
    {
      "cell_type": "code",
      "metadata": {
        "id": "3sOTdG0H65ZM",
        "colab_type": "code",
        "colab": {}
      },
      "source": [
        "!apt autoremove\n"
      ],
      "execution_count": 0,
      "outputs": []
    },
    {
      "cell_type": "code",
      "metadata": {
        "id": "ctIL01V36-2L",
        "colab_type": "code",
        "colab": {}
      },
      "source": [
        "!apt-get update"
      ],
      "execution_count": 0,
      "outputs": []
    },
    {
      "cell_type": "code",
      "metadata": {
        "id": "uQdBS3Pp--2i",
        "colab_type": "code",
        "colab": {}
      },
      "source": [
        "!wget https://developer.nvidia.com/compute/cuda/9.2/Prod/local_installers/cuda-repo-ubuntu1604-9-2-local_9.2.88-1_amd64 -O cuda-repo-ubuntu1604-9-2-local_9.2.88-1_amd64.deb\n"
      ],
      "execution_count": 0,
      "outputs": []
    },
    {
      "cell_type": "code",
      "metadata": {
        "id": "1Vo1wjxc_HJ0",
        "colab_type": "code",
        "colab": {}
      },
      "source": [
        "!dpkg -i cuda-repo-ubuntu1604-9-2-local_9.2.88-1_amd64.deb\n"
      ],
      "execution_count": 0,
      "outputs": []
    },
    {
      "cell_type": "code",
      "metadata": {
        "id": "4O0Lph2D_NL2",
        "colab_type": "code",
        "colab": {}
      },
      "source": [
        "!apt-key add /var/cuda-repo-9-2-local/7fa2af80.pub\n"
      ],
      "execution_count": 0,
      "outputs": []
    },
    {
      "cell_type": "code",
      "metadata": {
        "id": "lxWfVRQG_Xhz",
        "colab_type": "code",
        "colab": {}
      },
      "source": [
        "!apt-get update\n"
      ],
      "execution_count": 0,
      "outputs": []
    },
    {
      "cell_type": "code",
      "metadata": {
        "id": "dlf_Jm43_b-X",
        "colab_type": "code",
        "colab": {}
      },
      "source": [
        "!apt-get install cuda-9.2"
      ],
      "execution_count": 0,
      "outputs": []
    },
    {
      "cell_type": "code",
      "metadata": {
        "id": "kfIlFlWfBKFO",
        "colab_type": "code",
        "colab": {}
      },
      "source": [
        "!nvcc --version"
      ],
      "execution_count": 0,
      "outputs": []
    },
    {
      "cell_type": "code",
      "metadata": {
        "id": "oQlaVuYqB7fA",
        "colab_type": "code",
        "colab": {}
      },
      "source": [
        "!pip install git+git://github.com/andreinechaev/nvcc4jupyter.git"
      ],
      "execution_count": 0,
      "outputs": []
    },
    {
      "cell_type": "code",
      "metadata": {
        "id": "Cg9azxpT6yHf",
        "colab_type": "code",
        "colab": {}
      },
      "source": [
        "pwd\n"
      ],
      "execution_count": 0,
      "outputs": []
    },
    {
      "cell_type": "code",
      "metadata": {
        "id": "jdGapQDnCO4r",
        "colab_type": "code",
        "colab": {}
      },
      "source": [
        "!nvcc -o square ./square.cu"
      ],
      "execution_count": 0,
      "outputs": []
    },
    {
      "cell_type": "code",
      "metadata": {
        "id": "eB0WNSbwD3Ut",
        "colab_type": "code",
        "colab": {}
      },
      "source": [
        "!./square"
      ],
      "execution_count": 0,
      "outputs": []
    },
    {
      "cell_type": "code",
      "metadata": {
        "id": "ulK5yOSlFHtp",
        "colab_type": "code",
        "colab": {}
      },
      "source": [
        "%load_ext nvcc_plugin"
      ],
      "execution_count": 0,
      "outputs": []
    },
    {
      "cell_type": "code",
      "metadata": {
        "id": "2br8EpqPGIWy",
        "colab_type": "code",
        "colab": {}
      },
      "source": [
        "!wget \"https://www.duckietown.org/wp-content/uploads/2018/05/duckietown_nice-1024x683.jpg\" -O dt.jpg\n"
      ],
      "execution_count": 0,
      "outputs": []
    },
    {
      "cell_type": "code",
      "metadata": {
        "id": "QQe0wBsnGXBR",
        "colab_type": "code",
        "colab": {}
      },
      "source": [
        "# np = common abbreviation for numpy\n",
        "import numpy as np\n",
        "\n",
        "# Constructing a numpy array from a list\n",
        "\n",
        "boring_list = [1, 2, 3]\n",
        "fun_array = np.array(boring_list) # Calling np.array(a_list) will cast your list into a numpy array!\n",
        "\n",
        "# Arrays can be added, and there are tons of convenient functions to make them\n",
        "ones = np.ones(3)\n",
        "result = fun_array + ones + np.zeros(3)\n",
        "\n",
        "print(result)\n",
        "\n",
        "# What about matrices?\n",
        "boring_mtx = [[1, 2], [3, 4]]\n",
        "ones = np.ones((2, 2)) # (2, 2) describes the shape that I want\n",
        "identity = np.eye(2) # an Identity matrix\n",
        "\n",
        "# Numpy will cast your lists into arrays if need be\n",
        "try:\n",
        "    result = boring_mtx + identity \n",
        "    print(result)\n",
        "except:\n",
        "    print(\"Can I do this?\")\n",
        "    \n",
        "# Random Sampling? No problem!\n",
        "rando_mtx = np.random.random((100, 100))\n",
        "\n",
        "# A lot of functions built in\n",
        "print(np.linalg.norm(rando_mtx))\n",
        "\n",
        "# But different behavior depending on the parameters you give it!\n",
        "print(np.linalg.norm(rando_mtx, axis=0))\n",
        "print(np.linalg.norm(rando_mtx, ord=2))\n",
        "\n",
        "# Matrix Operations work exactly how you think they would\n",
        "rando_mtx = np.eye(rando_mtx.shape[0]) * rando_mtx\n",
        "\n",
        "\n",
        "# Or not? One big (and subtle) feature: broadcasting\n",
        "rando_mtx += 1 # adding a scalar works, that's cool! \n",
        "\n",
        "mtx1 = np.random.random((8, 1, 7, 1))\n",
        "mtx2 = np.random.random((8, 2, 1, 9))\n",
        "\n",
        "# No error? \n",
        "res = mtx1 * mtx2 \n",
        "\n",
        "# Does the same? \n",
        "res2 = mtx1.dot(mtx2)\n",
        "\n",
        "print(np.array_equal(res, res2), res.shape, res2.shape)\n",
        "\n",
        "# Big takeaway: numpy docs are your friend! Look before you write!\n"
      ],
      "execution_count": 0,
      "outputs": []
    },
    {
      "cell_type": "code",
      "metadata": {
        "id": "nmKKDBkrGmdE",
        "colab_type": "code",
        "colab": {}
      },
      "source": [
        "%matplotlib inline\n",
        "from matplotlib import pyplot as plt\n",
        "import cv2\n",
        "\n",
        "# Load in Grayscale\n",
        "img = cv2.imread('./dt.jpg', 0)\n",
        "\n",
        "# The underlying representation is a numpy array!\n",
        "print(type(img))\n",
        "\n",
        "plt.imshow(img)\n",
        "plt.show()\n",
        "\n",
        "img = cv2.imread('./dt.jpg')\n",
        "\n",
        "plt.imshow(img)\n",
        "plt.show()\n",
        "\n",
        "# This would work normally, but it will crash the colab kernel, so don't.\n",
        "# cv2.imshow('Image', img)\n"
      ],
      "execution_count": 0,
      "outputs": []
    },
    {
      "cell_type": "code",
      "metadata": {
        "id": "--oeMunrG_WA",
        "colab_type": "code",
        "colab": {}
      },
      "source": [
        "imgrgb = cv2.cvtColor(img, cv2.COLOR_BGR2RGB)\n",
        "\n",
        "plt.imshow(imgrgb)\n",
        "plt.show()\n",
        "\n",
        "# Or, use fun numpy functions / indexing!\n",
        "imgrgb = img[:,:,::-1]\n",
        "plt.imshow(imgrgb)\n",
        "plt.show()\n"
      ],
      "execution_count": 0,
      "outputs": []
    },
    {
      "cell_type": "code",
      "metadata": {
        "id": "dezdmMCXHK8R",
        "colab_type": "code",
        "colab": {}
      },
      "source": [
        "# Expanding\n",
        "res = cv2.resize(imgrgb, None,fx=2, fy=2, interpolation = cv2.INTER_CUBIC)\n",
        "plt.imshow(res)\n",
        "plt.show()\n",
        "\n",
        "# Shrinking\n",
        "res = cv2.resize(imgrgb, None,fx=.1, fy=.1, interpolation = cv2.INTER_CUBIC)\n",
        "plt.imshow(res)\n",
        "plt.show()\n",
        "\n",
        "# What are some practical constraints that have to do with image resizing?"
      ],
      "execution_count": 0,
      "outputs": []
    },
    {
      "cell_type": "code",
      "metadata": {
        "id": "yx2YI7LNHRkk",
        "colab_type": "code",
        "colab": {}
      },
      "source": [
        "#@title Transformation Parameters { run: \"auto\" }\n",
        "\n",
        "theta_degrees = 0 #@param {type:\"slider\", min:0, max:360, step:10}\n",
        "shift_x = 100 #@param {type:\"slider\", min:-100, max:100, step:2}\n",
        "shift_y = 100 #@param {type:\"slider\", min:-100, max:100, step:2}\n",
        "\n",
        "# We can also play around with rotations by defining our M matrix, \n",
        "# which has the form:\n",
        "\"\"\"\n",
        "| cos(theta) -sin(theta) tx | \n",
        "| sin(theta)  cos(theta) ty |\n",
        "\"\"\"\n",
        "\n",
        "rows, cols, _ = imgrgb.shape\n",
        "\n",
        "radians = theta_degrees * np.pi / 180\n",
        "M = [\n",
        "        [np.cos(radians), -np.sin(radians), shift_x], \n",
        "        [np.sin(radians),  np.cos(radians), shift_y]\n",
        "    ]\n",
        "\n",
        "M = np.array(M)\n",
        "rows += int(shift_x)\n",
        "cols += int(shift_y)\n",
        "\n",
        "res = cv2.warpAffine(imgrgb, M, (cols,rows))\n",
        "\n",
        "plt.imshow(res)\n",
        "plt.show()\n",
        "\n",
        "\n"
      ],
      "execution_count": 0,
      "outputs": []
    },
    {
      "cell_type": "code",
      "metadata": {
        "id": "-Iu9LRMLHb2o",
        "colab_type": "code",
        "colab": {}
      },
      "source": [
        "# make things easier!\n",
        "img = imgrgb\n",
        "\n",
        "# Thresholding is cool\n",
        "ret,thresh1 = cv2.threshold(img,127,255,cv2.THRESH_BINARY)\n",
        "ret,thresh2 = cv2.threshold(img,127,255,cv2.THRESH_BINARY_INV)\n",
        "ret,thresh3 = cv2.threshold(img,127,255,cv2.THRESH_TRUNC)\n",
        "ret,thresh4 = cv2.threshold(img,127,255,cv2.THRESH_TOZERO)\n",
        "ret,thresh5 = cv2.threshold(img,127,255,cv2.THRESH_TOZERO_INV)\n",
        "\n",
        "titles = ['Original Image','BINARY','BINARY_INV','TRUNC','TOZERO','TOZERO_INV']\n",
        "images = [img, thresh1, thresh2, thresh3, thresh4, thresh5]\n",
        "\n",
        "for i in range(6):\n",
        "    plt.subplot(2,3,i+1),plt.imshow(images[i],'gray')\n",
        "    plt.title(titles[i])\n",
        "    plt.xticks([]),plt.yticks([])\n",
        "\n",
        "plt.show()\n",
        "\n",
        "# Blurring - smoothes the image out\n",
        "blur = cv2.blur(img,(10, 10))\n",
        "gblur = cv2.GaussianBlur(imgrgb,(5,5),0)\n",
        "\n",
        "plt.imshow(img), plt.title('Original')\n",
        "plt.show()\n",
        "plt.imshow(blur), plt.title('Blurred')\n",
        "plt.show()\n",
        "plt.imshow(gblur),plt.title('Gaussian Blur')\n",
        "plt.show()\n"
      ],
      "execution_count": 0,
      "outputs": []
    }
  ]
}